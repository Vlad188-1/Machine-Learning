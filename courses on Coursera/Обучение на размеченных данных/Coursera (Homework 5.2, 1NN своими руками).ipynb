{
 "cells": [
  {
   "cell_type": "markdown",
   "metadata": {},
   "source": [
    "## Часть1 "
   ]
  },
  {
   "cell_type": "markdown",
   "metadata": {},
   "source": [
    "### В этой части предлагается первый способ осуществления  метода одного ближайшего соседа, где будут использованы основные типы данных как списки и кортежи"
   ]
  },
  {
   "cell_type": "code",
   "execution_count": 33,
   "metadata": {},
   "outputs": [],
   "source": [
    "import numpy as np\n",
    "from sklearn.datasets import load_digits\n",
    "from collections import OrderedDict\n",
    "from sklearn.ensemble import RandomForestClassifier\n",
    "from sklearn.neighbors import KNeighborsClassifier\n",
    "from sklearn.metrics import accuracy_score"
   ]
  },
  {
   "cell_type": "code",
   "execution_count": 2,
   "metadata": {},
   "outputs": [],
   "source": [
    "digits = load_digits()"
   ]
  },
  {
   "cell_type": "code",
   "execution_count": 3,
   "metadata": {},
   "outputs": [],
   "source": [
    "X = digits.data\n",
    "y = digits.target"
   ]
  },
  {
   "cell_type": "markdown",
   "metadata": {},
   "source": [
    "**Разбиваем выборку на обучени и тест в соотношении 75:25 соответственно**"
   ]
  },
  {
   "cell_type": "code",
   "execution_count": 4,
   "metadata": {},
   "outputs": [],
   "source": [
    "X_train = X[:1347]\n",
    "y_train = y[:1347]\n",
    "\n",
    "X_test = X[1347:]\n",
    "y_test = y[1347:]"
   ]
  },
  {
   "cell_type": "markdown",
   "metadata": {},
   "source": [
    "**Списки evklid, metki понадобятся во второй части, так что здесь на них не обращаем внимания**"
   ]
  },
  {
   "cell_type": "code",
   "execution_count": 5,
   "metadata": {},
   "outputs": [],
   "source": [
    "evklid = []\n",
    "metki = []"
   ]
  },
  {
   "cell_type": "markdown",
   "metadata": {},
   "source": [
    "**Список evklid_metric будет включать в себя список из кортежей. В кортеже будет содержаться пара - растоянние \n",
    "от тестового объекта до объекта тренировочной выборки и метка на этом объекте тестовой выборки**"
   ]
  },
  {
   "cell_type": "code",
   "execution_count": 6,
   "metadata": {},
   "outputs": [],
   "source": [
    "evklid_metric = []"
   ]
  },
  {
   "cell_type": "code",
   "execution_count": 7,
   "metadata": {},
   "outputs": [],
   "source": [
    "for i in range(len(X_test)):\n",
    "    for j,k in zip(range(len(X_train)), range(len(y_train))):\n",
    "        evklid.append(np.sum((X_test[i] - X_train[j])**2))\n",
    "        metki.append(y_train[k])\n",
    "        evklid_metric.append((np.sum((X_test[i] - X_train[j])**2), y_train[k]))"
   ]
  },
  {
   "cell_type": "markdown",
   "metadata": {},
   "source": [
    "**Далее записываем функцию fragmentation_evklid_metric, которая разделит весь большой список evklid_metric на\n",
    "450 списков, которые в свою очередь будут содежать по 1347 кортежей**"
   ]
  },
  {
   "cell_type": "code",
   "execution_count": 8,
   "metadata": {},
   "outputs": [],
   "source": [
    "fragmentation_evklid_metric = lambda lst, step: [lst[i:i+step] for i in range(0, len(lst), step)]"
   ]
  },
  {
   "cell_type": "code",
   "execution_count": 9,
   "metadata": {},
   "outputs": [],
   "source": [
    "no_sorted = fragmentation_evklid_metric(evklid_metric, 1347)"
   ]
  },
  {
   "cell_type": "markdown",
   "metadata": {},
   "source": [
    "*Далее будм производить сортировку. Но сначала её отработаем на менее объёмном массиве данных, чтобы убедиться, что придуманный код работает исправно и делает то, что нужно*"
   ]
  },
  {
   "cell_type": "markdown",
   "metadata": {},
   "source": [
    "*Начало*"
   ]
  },
  {
   "cell_type": "code",
   "execution_count": 10,
   "metadata": {},
   "outputs": [],
   "source": [
    "a = [[(300,1),(600,2), (250,3)], [(500,6), (700,3), (100,2)]]\n",
    "b = []\n",
    "for i in a:\n",
    "    a = sorted(i)\n",
    "    b.append(min(a)[1]) # достаю метку, соответствущая минимальному расстоянию до тестового объекта"
   ]
  },
  {
   "cell_type": "code",
   "execution_count": 11,
   "metadata": {},
   "outputs": [
    {
     "data": {
      "text/plain": [
       "[3, 2]"
      ]
     },
     "execution_count": 11,
     "metadata": {},
     "output_type": "execute_result"
    }
   ],
   "source": [
    "b"
   ]
  },
  {
   "cell_type": "markdown",
   "metadata": {},
   "source": [
    "*Конец*"
   ]
  },
  {
   "cell_type": "markdown",
   "metadata": {},
   "source": [
    "**Применяем теперь это всё к нашим данным**"
   ]
  },
  {
   "cell_type": "code",
   "execution_count": 12,
   "metadata": {},
   "outputs": [],
   "source": [
    "sorted_list = []\n",
    "for i in no_sorted:\n",
    "    sort = sorted(i)\n",
    "    sorted_list.append(min(sort)[1])"
   ]
  },
  {
   "cell_type": "code",
   "execution_count": 13,
   "metadata": {},
   "outputs": [
    {
     "name": "stdout",
     "output_type": "stream",
     "text": [
      "[3, 7, 3, 3, 4, 6, 6, 6, 4, 9, 1, 5, 0, 9, 6, 2, 8, 2, 0, 0]\n",
      "[3 7 3 3 4 6 6 6 4 9 1 5 0 9 5 2 8 2 0 0]\n"
     ]
    }
   ],
   "source": [
    "print (sorted_list[0:20])\n",
    "print (y_test[0:20])"
   ]
  },
  {
   "cell_type": "markdown",
   "metadata": {},
   "source": [
    "**Определяем долю ошибок. Либо так...**"
   ]
  },
  {
   "cell_type": "code",
   "execution_count": 14,
   "metadata": {},
   "outputs": [
    {
     "data": {
      "text/plain": [
       "0.03777777777777778"
      ]
     },
     "execution_count": 14,
     "metadata": {},
     "output_type": "execute_result"
    }
   ],
   "source": [
    "score_list = []\n",
    "for i,j in zip(sorted_list, y_test):\n",
    "    if i != j:\n",
    "        score_list.append(1)\n",
    "\n",
    "answer_1 =   len(score_list)/len(y_test)\n",
    "answer_1"
   ]
  },
  {
   "cell_type": "markdown",
   "metadata": {},
   "source": [
    "**...либо так**"
   ]
  },
  {
   "cell_type": "code",
   "execution_count": 15,
   "metadata": {},
   "outputs": [
    {
     "data": {
      "text/plain": [
       "0.03777777777777778"
      ]
     },
     "execution_count": 15,
     "metadata": {},
     "output_type": "execute_result"
    }
   ],
   "source": [
    "score = 1/(len(y_test))*sum([1 if i != j else 0 for i,j in zip(sorted_list, y_test)])\n",
    "score"
   ]
  },
  {
   "cell_type": "markdown",
   "metadata": {},
   "source": [
    "## Часть 2"
   ]
  },
  {
   "cell_type": "markdown",
   "metadata": {},
   "source": [
    "### В этой части предлагается второй способ осуществления метода блжайшего соседа. Основные структуры данных, которые здесь будут использованы - это списки и словари."
   ]
  },
  {
   "cell_type": "markdown",
   "metadata": {},
   "source": [
    "**Разбиваем списки evklid и metki на 450 списков, каждый из которых содержит по 1347 элементов**"
   ]
  },
  {
   "cell_type": "code",
   "execution_count": 16,
   "metadata": {},
   "outputs": [],
   "source": [
    "evklid_new = fragmentation_evklid_metric(evklid, 1347)\n",
    "metki_new = fragmentation_evklid_metric(metki, 1347)"
   ]
  },
  {
   "cell_type": "markdown",
   "metadata": {},
   "source": [
    "*Как и в предыдущей части, отработаем сортировку на меньшем объёме данных, чтобы проверить правильность работы кода.*"
   ]
  },
  {
   "cell_type": "markdown",
   "metadata": {},
   "source": [
    "*Начало*"
   ]
  },
  {
   "cell_type": "code",
   "execution_count": 17,
   "metadata": {},
   "outputs": [],
   "source": [
    "a = [[1,2,60,0.6,0.9],[2,4,3,0.1,0.5]]\n",
    "b = [['a','b','e','g','p'],['c','d','l','i','R']]\n",
    "list_dict = []\n",
    "for i,j in zip(a,b):\n",
    "    Dict = {}\n",
    "    for m,l in zip(i,j):\n",
    "        Dict.update({m: l})\n",
    "    list_dict.append(Dict)"
   ]
  },
  {
   "cell_type": "code",
   "execution_count": 18,
   "metadata": {},
   "outputs": [
    {
     "data": {
      "text/plain": [
       "[{1: 'a', 2: 'b', 60: 'e', 0.6: 'g', 0.9: 'p'},\n",
       " {2: 'c', 4: 'd', 3: 'l', 0.1: 'i', 0.5: 'R'}]"
      ]
     },
     "execution_count": 18,
     "metadata": {},
     "output_type": "execute_result"
    }
   ],
   "source": [
    "list_dict"
   ]
  },
  {
   "cell_type": "code",
   "execution_count": 19,
   "metadata": {},
   "outputs": [],
   "source": [
    "list_sort = []"
   ]
  },
  {
   "cell_type": "code",
   "execution_count": 20,
   "metadata": {},
   "outputs": [
    {
     "name": "stdout",
     "output_type": "stream",
     "text": [
      "[OrderedDict([(0.6, 'g'), (0.9, 'p'), (1, 'a'), (2, 'b'), (60, 'e')]), OrderedDict([(0.1, 'i'), (0.5, 'R'), (2, 'c'), (3, 'l'), (4, 'd')])]\n"
     ]
    }
   ],
   "source": [
    "for i in list_dict:\n",
    "    s = OrderedDict(sorted(i.items(), key=lambda t: t[0]))\n",
    "    list_sort.append(s)\n",
    "print (list_sort)"
   ]
  },
  {
   "cell_type": "code",
   "execution_count": 21,
   "metadata": {},
   "outputs": [],
   "source": [
    "Metki = []"
   ]
  },
  {
   "cell_type": "code",
   "execution_count": 22,
   "metadata": {},
   "outputs": [],
   "source": [
    "for i in list_sort:\n",
    "    Metki.append(list(i.values())[0])"
   ]
  },
  {
   "cell_type": "code",
   "execution_count": 23,
   "metadata": {},
   "outputs": [
    {
     "data": {
      "text/plain": [
       "['g', 'i']"
      ]
     },
     "execution_count": 23,
     "metadata": {},
     "output_type": "execute_result"
    }
   ],
   "source": [
    "Metki"
   ]
  },
  {
   "cell_type": "markdown",
   "metadata": {},
   "source": [
    "*Конец*"
   ]
  },
  {
   "cell_type": "markdown",
   "metadata": {},
   "source": [
    "**Теперь приступаем к сортировке наших данных**"
   ]
  },
  {
   "cell_type": "code",
   "execution_count": 24,
   "metadata": {},
   "outputs": [],
   "source": [
    "Big_list_dict = []\n",
    "for i,j in zip(evklid_new, metki_new):\n",
    "    Big_dict = {}\n",
    "    for distance,metka in zip(i,j):\n",
    "        Big_dict.update({distance:metka})\n",
    "    Big_list_dict.append(Big_dict)"
   ]
  },
  {
   "cell_type": "code",
   "execution_count": 25,
   "metadata": {},
   "outputs": [],
   "source": [
    "list_sort_dicts = []"
   ]
  },
  {
   "cell_type": "code",
   "execution_count": 26,
   "metadata": {},
   "outputs": [],
   "source": [
    "for i in Big_list_dict:\n",
    "    sort = OrderedDict(sorted(i.items(), key=lambda t: t[0]))\n",
    "    list_sort_dicts.append(sort)"
   ]
  },
  {
   "cell_type": "markdown",
   "metadata": {},
   "source": [
    "**В списке true_metki содержатся все метки минимальных расстояний от объекта из тестовой выборки до объекта обучающе выборки**"
   ]
  },
  {
   "cell_type": "code",
   "execution_count": 27,
   "metadata": {},
   "outputs": [],
   "source": [
    "true_metki = []"
   ]
  },
  {
   "cell_type": "code",
   "execution_count": 28,
   "metadata": {},
   "outputs": [],
   "source": [
    "for i in list_sort_dicts:\n",
    "    true_metki.append(list(i.values())[0])"
   ]
  },
  {
   "cell_type": "code",
   "execution_count": 32,
   "metadata": {},
   "outputs": [
    {
     "name": "stdout",
     "output_type": "stream",
     "text": [
      "Accuracy: 0.03777777777777778\n"
     ]
    }
   ],
   "source": [
    "Score_list = []\n",
    "\n",
    "for i,j in zip(true_metki, y_test):\n",
    "    if i != j:\n",
    "        Score_list.append(1)\n",
    "answer_1 = len(Score_list)/len(y_test)\n",
    "print ('Accuracy:', answer_1)"
   ]
  },
  {
   "cell_type": "markdown",
   "metadata": {},
   "source": [
    "**Записываем полученнный ответ в файл**"
   ]
  },
  {
   "cell_type": "code",
   "execution_count": 23,
   "metadata": {},
   "outputs": [],
   "source": [
    "with open('D:\\Coursera\\KNN_answer_1.txt', 'w') as file:\n",
    "    file.write(str(answer_1))\n",
    "file.close()"
   ]
  },
  {
   "cell_type": "markdown",
   "metadata": {},
   "source": [
    "**Теперь обучаем нашу модель методом случайных лесов и сравниваем полученные доли ошибок на тестовых выборках**"
   ]
  },
  {
   "cell_type": "code",
   "execution_count": 33,
   "metadata": {},
   "outputs": [],
   "source": [
    "model = RandomForestClassifier(n_estimators = 1000)\n",
    "model_fit = model.fit(X_train, y_train)"
   ]
  },
  {
   "cell_type": "code",
   "execution_count": 34,
   "metadata": {},
   "outputs": [
    {
     "data": {
      "text/plain": [
       "0.06666666666666665"
      ]
     },
     "execution_count": 34,
     "metadata": {},
     "output_type": "execute_result"
    }
   ],
   "source": [
    "answer_2 = 1- model.score(X_test, y_test)\n",
    "answer_2"
   ]
  },
  {
   "cell_type": "code",
   "execution_count": 27,
   "metadata": {},
   "outputs": [],
   "source": [
    "with open('D:\\Coursera\\KNN_answer_2.txt', 'w') as file:\n",
    "    file.write(str(answer_2))\n",
    "file.close()"
   ]
  },
  {
   "cell_type": "markdown",
   "metadata": {},
   "source": [
    "**Сверяем метод 1NN, написанный своими руками, со встроенным методом путём сравнения доли ошибок**"
   ]
  },
  {
   "cell_type": "code",
   "execution_count": 20,
   "metadata": {},
   "outputs": [],
   "source": [
    "model = KNeighborsClassifier(n_neighbors=1, weights='distance')\n",
    "model.fit(X_train, y_train)\n",
    "\n",
    "y_predicted = model.predict(X_test)\n",
    "accuracy = accuracy_score(y_test, y_predicted)"
   ]
  },
  {
   "cell_type": "code",
   "execution_count": 21,
   "metadata": {},
   "outputs": [
    {
     "data": {
      "text/plain": [
       "0.0377777777777778"
      ]
     },
     "execution_count": 21,
     "metadata": {},
     "output_type": "execute_result"
    }
   ],
   "source": [
    "1-accuracy"
   ]
  },
  {
   "cell_type": "code",
   "execution_count": null,
   "metadata": {},
   "outputs": [],
   "source": []
  }
 ],
 "metadata": {
  "kernelspec": {
   "display_name": "Python 3",
   "language": "python",
   "name": "python3"
  },
  "language_info": {
   "codemirror_mode": {
    "name": "ipython",
    "version": 3
   },
   "file_extension": ".py",
   "mimetype": "text/x-python",
   "name": "python",
   "nbconvert_exporter": "python",
   "pygments_lexer": "ipython3",
   "version": "3.7.6"
  }
 },
 "nbformat": 4,
 "nbformat_minor": 4
}
