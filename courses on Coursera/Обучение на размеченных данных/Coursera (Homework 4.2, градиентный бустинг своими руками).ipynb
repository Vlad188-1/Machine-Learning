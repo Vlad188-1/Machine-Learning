{
 "cells": [
  {
   "cell_type": "markdown",
   "metadata": {},
   "source": [
    "# Градиентный бустинг своими руками\n",
    "\n",
    "**Внимание:** в тексте задания произошли изменения - поменялось число деревьев (теперь 50), правило изменения величины шага в задании 3 и добавился параметр `random_state` у решающего дерева. Правильные ответы не поменялись, но теперь их проще получить. Также исправлена опечатка в функции `gbm_predict`.\n",
    "\n",
    "В этом задании будет использоваться датасет `boston` из `sklearn.datasets`. Оставьте последние 25% объектов для контроля качества, разделив `X` и `y` на `X_train`, `y_train` и `X_test`, `y_test`.\n",
    "\n",
    "Целью задания будет реализовать простой вариант градиентного бустинга над регрессионными деревьями для случая квадратичной функции потерь."
   ]
  },
  {
   "cell_type": "code",
   "execution_count": 1,
   "metadata": {},
   "outputs": [],
   "source": [
    "import numpy as np\n",
    "import pandas as pd\n",
    "import matplotlib.pyplot as plt\n",
    "from sklearn.datasets import load_boston"
   ]
  },
  {
   "cell_type": "code",
   "execution_count": 2,
   "metadata": {},
   "outputs": [],
   "source": [
    "boston = load_boston()"
   ]
  },
  {
   "cell_type": "code",
   "execution_count": 3,
   "metadata": {},
   "outputs": [],
   "source": [
    "X = boston.data\n",
    "y = boston.target"
   ]
  },
  {
   "cell_type": "code",
   "execution_count": 4,
   "metadata": {},
   "outputs": [
    {
     "data": {
      "text/plain": [
       "506"
      ]
     },
     "execution_count": 4,
     "metadata": {},
     "output_type": "execute_result"
    }
   ],
   "source": [
    "len(X)"
   ]
  },
  {
   "cell_type": "code",
   "execution_count": 5,
   "metadata": {},
   "outputs": [],
   "source": [
    "X_train = X[:379]\n",
    "y_train = y[:379]\n",
    "X_test = X[379:]\n",
    "y_test = y[379:]"
   ]
  },
  {
   "cell_type": "code",
   "execution_count": 6,
   "metadata": {},
   "outputs": [
    {
     "name": "stdout",
     "output_type": "stream",
     "text": [
      "[10.2 10.4 10.9 11.3 12.3  8.8  7.2 10.5  7.4 10.2 11.5 15.1 23.2  9.7\n",
      " 13.8 12.7 13.1 12.5  8.5  5.   6.3  5.6  7.2 12.1  8.3  8.5  5.  11.9\n",
      " 27.9 17.2 27.5 15.  17.2 17.9 16.3  7.   7.2  7.5 10.4  8.8  8.4 16.7\n",
      " 14.2 20.8 13.4 11.7  8.3 10.2 10.9 11.   9.5 14.5 14.1 16.1 14.3 11.7\n",
      " 13.4  9.6  8.7  8.4 12.8 10.5 17.1 18.4 15.4 10.8 11.8 14.9 12.6 14.1\n",
      " 13.  13.4 15.2 16.1 17.8 14.9 14.1 12.7 13.5 14.9 20.  16.4 17.7 19.5\n",
      " 20.2 21.4 19.9 19.  19.1 19.1 20.1 19.9 19.6 23.2 29.8 13.8 13.3 16.7\n",
      " 12.  14.6 21.4 23.  23.7 25.  21.8 20.6 21.2 19.1 20.6 15.2  7.   8.1\n",
      " 13.6 20.1 21.8 24.5 23.1 19.7 18.3 21.2 17.5 16.8 22.4 20.6 23.9 22.\n",
      " 11.9]\n"
     ]
    }
   ],
   "source": [
    "print(y_test)"
   ]
  },
  {
   "cell_type": "markdown",
   "metadata": {},
   "source": [
    "## Задание 1\n",
    "\n",
    "Как вы уже знаете из лекций, **бустинг** - это метод построения композиций базовых алгоритмов с помощью последовательного добавления к текущей композиции нового алгоритма с некоторым коэффициентом. \n",
    "\n",
    "Градиентный бустинг обучает каждый новый алгоритм так, чтобы он приближал антиградиент ошибки по ответам композиции на обучающей выборке. Аналогично минимизации функций методом градиентного спуска, в градиентном бустинге мы подправляем композицию, изменяя алгоритм в направлении антиградиента ошибки.\n",
    "\n",
    "Воспользуйтесь формулой из лекций, задающей ответы на обучающей выборке, на которые нужно обучать новый алгоритм (фактически это лишь чуть более подробно расписанный градиент от ошибки), и получите частный ее случай, если функция потерь `L` - квадрат отклонения ответа композиции `a(x)` от правильного ответа `y` на данном `x`.\n",
    "\n",
    "Если вы давно не считали производную самостоятельно, вам поможет таблица производных элементарных функций (которую несложно найти в интернете) и правило дифференцирования сложной функции. После дифференцирования квадрата у вас возникнет множитель 2 — т.к. нам все равно предстоит выбирать коэффициент, с которым будет добавлен новый базовый алгоритм, проигноируйте этот множитель при дальнейшем построении алгоритма."
   ]
  },
  {
   "cell_type": "markdown",
   "metadata": {},
   "source": [
    "## Задание 2\n",
    "\n",
    "Заведите массив для объектов `DecisionTreeRegressor` (будем их использовать в качестве базовых алгоритмов) и для вещественных чисел (это будут коэффициенты перед базовыми алгоритмами). \n",
    "\n",
    "В цикле от обучите последовательно 50 решающих деревьев с параметрами `max_depth=5` и `random_state=42` (остальные параметры - по умолчанию). В бустинге зачастую используются сотни и тысячи деревьев, но мы ограничимся 50, чтобы алгоритм работал быстрее, и его было проще отлаживать (т.к. цель задания разобраться, как работает метод). Каждое дерево должно обучаться на одном и том же множестве объектов, но ответы, которые учится прогнозировать дерево, будут меняться в соответствие с полученным в задании 1 правилом. \n",
    "\n",
    "Попробуйте для начала всегда брать коэффициент равным 0.9. Обычно оправдано выбирать коэффициент значительно меньшим - порядка 0.05 или 0.1, но т.к. в нашем учебном примере на стандартном датасете будет всего 50 деревьев, возьмем для начала шаг побольше.\n",
    "\n",
    "В процессе реализации обучения вам потребуется функция, которая будет вычислять прогноз построенной на данный момент композиции деревьев на выборке `X`:\n",
    "\n",
    "```\n",
    "def gbm_predict(X):\n",
    "    return [sum([coeff * algo.predict([x])[0] for algo, coeff in zip(base_algorithms_list, coefficients_list)]) for x in X]\n",
    "(считаем, что base_algorithms_list - список с базовыми алгоритмами, coefficients_list - список с коэффициентами перед алгоритмами)\n",
    "```\n",
    "\n",
    "Эта же функция поможет вам получить прогноз на контрольной выборке и оценить качество работы вашего алгоритма с помощью `mean_squared_error` в `sklearn.metrics`. \n",
    "\n",
    "Возведите результат в степень 0.5, чтобы получить `RMSE`. Полученное значение `RMSE` — **ответ в пункте 2**."
   ]
  },
  {
   "cell_type": "code",
   "execution_count": 7,
   "metadata": {},
   "outputs": [],
   "source": [
    "from sklearn.metrics import mean_squared_error\n",
    "from sklearn.tree import DecisionTreeRegressor"
   ]
  },
  {
   "cell_type": "code",
   "execution_count": 8,
   "metadata": {},
   "outputs": [],
   "source": [
    "errors = []\n",
    "def learning(X, y):\n",
    "    eta = 0.9\n",
    "    base_algorithms_list = [DecisionTreeRegressor(max_depth = 5, random_state = 42).fit(X,y)] # задаём базовый олгоритм \n",
    "    #и трениурем его\n",
    "    coefficients_list = [eta]\n",
    "    \n",
    "    def gbm_predict(X):\n",
    "        return [sum([coeff * algo.predict([x])[0] for algo, coeff in zip(base_algorithms_list, \n",
    "                                                                             coefficients_list)]) for x in X]\n",
    "    for i in range(49):\n",
    "        DT = DecisionTreeRegressor(max_depth = 5, random_state = 42)\n",
    "\n",
    "        y_predicted = gbm_predict(X) # задаём новый прогноз для очередного следующего алгоритма\n",
    "        antigrad = -(y_predicted - y) # вычисляем градиент от MSE\n",
    "        \n",
    "        DT_fit = DT.fit(X, antigrad) # обучаем новую модель, вместо y здесь antigrad, потому что мы улучшаем первую модель\n",
    "        # путём добавления к ней новой, обученной на этом смещение\n",
    "        errors.append(mean_squared_error(y_predicted, y)) # добавляем MSE в список errors\n",
    "        base_algorithms_list.append(DT_fit)               # добавляем алгоритм в список алгоритмов\n",
    "                     \n",
    "        coefficients_list.append(eta)\n",
    "        print ('Номер итерации :',i,'\\t', 'MSE =', mean_squared_error(y_predicted, y))\n",
    "    return gbm_predict"
   ]
  },
  {
   "cell_type": "code",
   "execution_count": 9,
   "metadata": {},
   "outputs": [
    {
     "name": "stdout",
     "output_type": "stream",
     "text": [
      "Номер итерации : 0 \t MSE = 12.331605457099899\n",
      "Номер итерации : 1 \t MSE = 3.141636385796952\n",
      "Номер итерации : 2 \t MSE = 2.124055499201814\n",
      "Номер итерации : 3 \t MSE = 1.4043792015119663\n",
      "Номер итерации : 4 \t MSE = 1.044955283595192\n",
      "Номер итерации : 5 \t MSE = 0.6718226467537942\n",
      "Номер итерации : 6 \t MSE = 0.49952057509534303\n",
      "Номер итерации : 7 \t MSE = 0.35218204682222926\n",
      "Номер итерации : 8 \t MSE = 0.2889922320622582\n",
      "Номер итерации : 9 \t MSE = 0.1984452548657373\n",
      "Номер итерации : 10 \t MSE = 0.14597519729435435\n",
      "Номер итерации : 11 \t MSE = 0.1104547941861666\n",
      "Номер итерации : 12 \t MSE = 0.08873097417775282\n",
      "Номер итерации : 13 \t MSE = 0.07272042240399255\n",
      "Номер итерации : 14 \t MSE = 0.05616586857397539\n",
      "Номер итерации : 15 \t MSE = 0.04265208395104792\n",
      "Номер итерации : 16 \t MSE = 0.028528788301136657\n",
      "Номер итерации : 17 \t MSE = 0.020589484057948144\n",
      "Номер итерации : 18 \t MSE = 0.01697116548982668\n",
      "Номер итерации : 19 \t MSE = 0.011030487621622157\n",
      "Номер итерации : 20 \t MSE = 0.008433798633814802\n",
      "Номер итерации : 21 \t MSE = 0.006674893231537912\n",
      "Номер итерации : 22 \t MSE = 0.00608437570888327\n",
      "Номер итерации : 23 \t MSE = 0.004474324685445973\n",
      "Номер итерации : 24 \t MSE = 0.0035766729030139778\n",
      "Номер итерации : 25 \t MSE = 0.0024877488516549307\n",
      "Номер итерации : 26 \t MSE = 0.0019207464152065379\n",
      "Номер итерации : 27 \t MSE = 0.0016256826608843753\n",
      "Номер итерации : 28 \t MSE = 0.0015615969054257647\n",
      "Номер итерации : 29 \t MSE = 0.0011817942345275505\n",
      "Номер итерации : 30 \t MSE = 0.0008060965486453267\n",
      "Номер итерации : 31 \t MSE = 0.000662507297414981\n",
      "Номер итерации : 32 \t MSE = 0.0005805707807542656\n",
      "Номер итерации : 33 \t MSE = 0.0004845551859639282\n",
      "Номер итерации : 34 \t MSE = 0.00035913491710381774\n",
      "Номер итерации : 35 \t MSE = 0.0002423290100830237\n",
      "Номер итерации : 36 \t MSE = 0.00021044857338676059\n",
      "Номер итерации : 37 \t MSE = 0.00015017624787861146\n",
      "Номер итерации : 38 \t MSE = 0.00011042938444587449\n",
      "Номер итерации : 39 \t MSE = 9.540331504391291e-05\n",
      "Номер итерации : 40 \t MSE = 6.573113001741793e-05\n",
      "Номер итерации : 41 \t MSE = 5.164589963410267e-05\n",
      "Номер итерации : 42 \t MSE = 3.6649858536281646e-05\n",
      "Номер итерации : 43 \t MSE = 3.071078659554806e-05\n",
      "Номер итерации : 44 \t MSE = 2.122782592722706e-05\n",
      "Номер итерации : 45 \t MSE = 1.3744315699220391e-05\n",
      "Номер итерации : 46 \t MSE = 1.1541475627308667e-05\n",
      "Номер итерации : 47 \t MSE = 1.0080884232221694e-05\n",
      "Номер итерации : 48 \t MSE = 7.2918815824220646e-06\n"
     ]
    }
   ],
   "source": [
    "GB = learning(X_train,y_train)"
   ]
  },
  {
   "cell_type": "code",
   "execution_count": 10,
   "metadata": {},
   "outputs": [
    {
     "name": "stdout",
     "output_type": "stream",
     "text": [
      "Populating the interactive namespace from numpy and matplotlib\n"
     ]
    }
   ],
   "source": [
    "%pylab inline"
   ]
  },
  {
   "cell_type": "code",
   "execution_count": 11,
   "metadata": {},
   "outputs": [
    {
     "data": {
      "image/png": "[encoded data removed]",
      "text/plain": [
       "<Figure size 576x504 with 1 Axes>"
      ]
     },
     "metadata": {
      "needs_background": "light"
     },
     "output_type": "display_data"
    }
   ],
   "source": [
    "figure(figsize = (8,7))\n",
    "plot(range(49), errors, color = 'purple')\n",
    "title('Зависимость MSE от числа итераций (обучающая выборка)')\n",
    "xlabel('Число итераций', fontsize = 13, fontweight = 'bold')\n",
    "ylabel('MSE', fontsize = 13, fontweight = 'bold')\n",
    "grid(True)"
   ]
  },
  {
   "cell_type": "code",
   "execution_count": 12,
   "metadata": {},
   "outputs": [
    {
     "name": "stdout",
     "output_type": "stream",
     "text": [
      "5.455565103009404\n"
     ]
    }
   ],
   "source": [
    "y_predicted = GB(X_test)\n",
    "string = np.sqrt(mean_squared_error(y_test, y_predicted))\n",
    "print (string)"
   ]
  },
  {
   "cell_type": "code",
   "execution_count": 13,
   "metadata": {},
   "outputs": [],
   "source": [
    "def write_answer_1(string):\n",
    "    with open(\"D:\\Coursera\\Boosting_answer_1.txt\", \"w\") as file:\n",
    "        file.write(str(string))"
   ]
  },
  {
   "cell_type": "code",
   "execution_count": 14,
   "metadata": {},
   "outputs": [],
   "source": [
    "write_answer_1(string)"
   ]
  },
  {
   "cell_type": "markdown",
   "metadata": {},
   "source": [
    "## Задание 3\n",
    "\n",
    "Вас может также беспокоить, что двигаясь с постоянным шагом, вблизи минимума ошибки ответы на обучающей выборке меняются слишком резко, перескакивая через минимум. \n",
    "\n",
    "Попробуйте уменьшать вес перед каждым алгоритмом с каждой следующей итерацией по формуле `0.9 / (1.0 + i)`, где `i` - номер итерации (от 0 до 49). Используйте качество работы алгоритма как **ответ в пункте 3**. \n",
    "\n",
    "В реальности часто применяется следующая стратегия выбора шага: как только выбран алгоритм, подберем коэффициент перед ним численным методом оптимизации таким образом, чтобы отклонение от правильных ответов было минимальным. Мы не будем предлагать вам реализовать это для выполнения задания, но рекомендуем попробовать разобраться с такой стратегией и реализовать ее при случае для себя."
   ]
  },
  {
   "cell_type": "code",
   "execution_count": 15,
   "metadata": {},
   "outputs": [],
   "source": [
    "errors_new = []\n",
    "eta = 0.9\n",
    "coefficients_list = [eta]\n",
    "def learning(X, y):\n",
    "    eta = 0.9\n",
    "    base_algorithms_list = [DecisionTreeRegressor(max_depth = 5, random_state = 42).fit(X,y)] # задаём базовый олгоритм \n",
    "    #и трениурем его\n",
    "    coefficients_list = [eta]\n",
    "    \n",
    "    def gbm_predict(X):\n",
    "        return [sum([coeff * algo.predict([x])[0] for algo, coeff in zip(base_algorithms_list, \n",
    "                                                                             coefficients_list)]) for x in X]\n",
    "    for i in range(1,50):\n",
    "        DT = DecisionTreeRegressor(max_depth = 5, random_state = 42)\n",
    "\n",
    "        y_predicted = gbm_predict(X) # задаём новый прогноз для очередного следующего алгоритма\n",
    "        antigrad = -(y_predicted - y) # вычисляем градиент от MSE\n",
    "        \n",
    "        DT_fit = DT.fit(X, antigrad) # обучаем новую модель, вместо y здесь antigrad, потому что мы улучшаем первую модель\n",
    "        # путём добавления к ней новой, обученной на этом смещение\n",
    "        errors_new.append(mean_squared_error(y_predicted, y)) # добавляем MSE в список errors\n",
    "        base_algorithms_list.append(DT_fit)               # добавляем алгоритм в список алгоритмов\n",
    "        \n",
    "        eta_new = eta/(1. + i)\n",
    "        coefficients_list.append(eta_new)\n",
    "        print ('Номер итерации :',i,'\\t', 'MSE =', mean_squared_error(y_predicted, y), '\\t', 'eta_new =', eta_new)\n",
    "    return gbm_predict"
   ]
  },
  {
   "cell_type": "code",
   "execution_count": 16,
   "metadata": {},
   "outputs": [
    {
     "name": "stdout",
     "output_type": "stream",
     "text": [
      "Номер итерации : 1 \t MSE = 12.331605457099899 \t eta_new = 0.45\n",
      "Номер итерации : 2 \t MSE = 5.856854520500094 \t eta_new = 0.3\n",
      "Номер итерации : 3 \t MSE = 4.024928983203765 \t eta_new = 0.225\n",
      "Номер итерации : 4 \t MSE = 3.258954713501128 \t eta_new = 0.18\n",
      "Номер итерации : 5 \t MSE = 2.7992073273110116 \t eta_new = 0.15\n",
      "Номер итерации : 6 \t MSE = 2.425572714953782 \t eta_new = 0.1285714285714286\n",
      "Номер итерации : 7 \t MSE = 2.179239548526464 \t eta_new = 0.1125\n",
      "Номер итерации : 8 \t MSE = 1.9931096395335335 \t eta_new = 0.1\n",
      "Номер итерации : 9 \t MSE = 1.8199712274457958 \t eta_new = 0.09\n",
      "Номер итерации : 10 \t MSE = 1.699040049185483 \t eta_new = 0.08181818181818182\n",
      "Номер итерации : 11 \t MSE = 1.5996568063706962 \t eta_new = 0.075\n",
      "Номер итерации : 12 \t MSE = 1.5425447021847591 \t eta_new = 0.06923076923076923\n",
      "Номер итерации : 13 \t MSE = 1.4885073502968151 \t eta_new = 0.0642857142857143\n",
      "Номер итерации : 14 \t MSE = 1.4223897513181356 \t eta_new = 0.060000000000000005\n",
      "Номер итерации : 15 \t MSE = 1.3854875408284573 \t eta_new = 0.05625\n",
      "Номер итерации : 16 \t MSE = 1.3452072128337516 \t eta_new = 0.052941176470588235\n",
      "Номер итерации : 17 \t MSE = 1.296129547918512 \t eta_new = 0.05\n",
      "Номер итерации : 18 \t MSE = 1.2577151548128762 \t eta_new = 0.04736842105263158\n",
      "Номер итерации : 19 \t MSE = 1.2305050510528537 \t eta_new = 0.045\n",
      "Номер итерации : 20 \t MSE = 1.1895343476604627 \t eta_new = 0.04285714285714286\n",
      "Номер итерации : 21 \t MSE = 1.153857206280167 \t eta_new = 0.04090909090909091\n",
      "Номер итерации : 22 \t MSE = 1.1229456026576101 \t eta_new = 0.0391304347826087\n",
      "Номер итерации : 23 \t MSE = 1.1075232787833917 \t eta_new = 0.0375\n",
      "Номер итерации : 24 \t MSE = 1.0935988796081102 \t eta_new = 0.036000000000000004\n",
      "Номер итерации : 25 \t MSE = 1.0722907255683434 \t eta_new = 0.03461538461538462\n",
      "Номер итерации : 26 \t MSE = 1.0596218451198245 \t eta_new = 0.03333333333333333\n",
      "Номер итерации : 27 \t MSE = 1.0474464541189312 \t eta_new = 0.03214285714285715\n",
      "Номер итерации : 28 \t MSE = 1.0364916642078157 \t eta_new = 0.03103448275862069\n",
      "Номер итерации : 29 \t MSE = 1.0161822450914904 \t eta_new = 0.030000000000000002\n",
      "Номер итерации : 30 \t MSE = 1.0067483832417412 \t eta_new = 0.02903225806451613\n",
      "Номер итерации : 31 \t MSE = 0.9981234703838128 \t eta_new = 0.028125\n",
      "Номер итерации : 32 \t MSE = 0.9898359923447219 \t eta_new = 0.027272727272727275\n",
      "Номер итерации : 33 \t MSE = 0.9724524795847574 \t eta_new = 0.026470588235294117\n",
      "Номер итерации : 34 \t MSE = 0.9597539997673664 \t eta_new = 0.025714285714285714\n",
      "Номер итерации : 35 \t MSE = 0.9541367735597647 \t eta_new = 0.025\n",
      "Номер итерации : 36 \t MSE = 0.9463054872114356 \t eta_new = 0.024324324324324326\n",
      "Номер итерации : 37 \t MSE = 0.9385368411680656 \t eta_new = 0.02368421052631579\n",
      "Номер итерации : 38 \t MSE = 0.932320738149628 \t eta_new = 0.023076923076923078\n",
      "Номер итерации : 39 \t MSE = 0.9254855001112027 \t eta_new = 0.0225\n",
      "Номер итерации : 40 \t MSE = 0.9166179035051718 \t eta_new = 0.021951219512195124\n",
      "Номер итерации : 41 \t MSE = 0.9122502045960751 \t eta_new = 0.02142857142857143\n",
      "Номер итерации : 42 \t MSE = 0.9026890668990462 \t eta_new = 0.020930232558139535\n",
      "Номер итерации : 43 \t MSE = 0.8976889554898829 \t eta_new = 0.020454545454545454\n",
      "Номер итерации : 44 \t MSE = 0.8938229583443691 \t eta_new = 0.02\n",
      "Номер итерации : 45 \t MSE = 0.8860311717871309 \t eta_new = 0.01956521739130435\n",
      "Номер итерации : 46 \t MSE = 0.8802076030025916 \t eta_new = 0.019148936170212766\n",
      "Номер итерации : 47 \t MSE = 0.8756684645046456 \t eta_new = 0.01875\n",
      "Номер итерации : 48 \t MSE = 0.8709803700411031 \t eta_new = 0.018367346938775512\n",
      "Номер итерации : 49 \t MSE = 0.8657609565993334 \t eta_new = 0.018000000000000002\n"
     ]
    }
   ],
   "source": [
    "GB_new = learning(X_train, y_train)"
   ]
  },
  {
   "cell_type": "code",
   "execution_count": 17,
   "metadata": {},
   "outputs": [
    {
     "name": "stdout",
     "output_type": "stream",
     "text": [
      "4.812550945781194\n"
     ]
    }
   ],
   "source": [
    "y_predicted_new = GB_new(X_test)\n",
    "string_new = np.sqrt(mean_squared_error(y_test, y_predicted_new))\n",
    "print (string_new)"
   ]
  },
  {
   "cell_type": "code",
   "execution_count": 18,
   "metadata": {},
   "outputs": [
    {
     "data": {
      "image/png": "[encoded data removed]",
      "text/plain": [
       "<Figure size 576x504 with 1 Axes>"
      ]
     },
     "metadata": {
      "needs_background": "light"
     },
     "output_type": "display_data"
    }
   ],
   "source": [
    "figure(figsize = (8,7))\n",
    "plot(range(49), errors_new, color = 'chocolate')\n",
    "title('Зависимость MSE от числа итераций (обучающая выборка)')\n",
    "xlabel('Число итераций', fontsize = 13, fontweight = 'bold')\n",
    "ylabel('MSE', fontsize = 13, fontweight = 'bold')\n",
    "grid(True)"
   ]
  },
  {
   "cell_type": "code",
   "execution_count": 19,
   "metadata": {},
   "outputs": [],
   "source": [
    "def write_answer_2(string_new):\n",
    "    with open(\"D:\\Coursera\\Boosting_answer_2.txt\", \"w\") as file:\n",
    "        file.write(str(string_new))"
   ]
  },
  {
   "cell_type": "code",
   "execution_count": 20,
   "metadata": {},
   "outputs": [],
   "source": [
    "write_answer_2(string_new)"
   ]
  },
  {
   "cell_type": "markdown",
   "metadata": {},
   "source": [
    "## Задание 4\n",
    "\n",
    "Реализованный вами метод - градиентный бустинг над деревьями - очень популярен в машинном обучении. Он представлен как в самой библиотеке `sklearn`, так и в сторонней библиотеке `XGBoost`, которая имеет свой питоновский интерфейс. На практике `XGBoost` работает заметно лучше `GradientBoostingRegressor` из `sklearn`, но для этого задания вы можете использовать любую реализацию. \n",
    "\n",
    "Исследуйте, переобучается ли градиентный бустинг с ростом числа итераций (и подумайте, почему), а также с ростом глубины деревьев. На основе наблюдений выпишите через пробел номера правильных из приведенных ниже утверждений в порядке возрастания номера (это будет **ответ в п.4**):\n",
    "\n",
    "    1. С увеличением числа деревьев, начиная с некоторого момента, качество работы градиентного бустинга не меняется существенно.\n",
    "\n",
    "    2. С увеличением числа деревьев, начиная с некоторого момента, градиентный бустинг начинает переобучаться.\n",
    "\n",
    "    3. С ростом глубины деревьев, начиная с некоторого момента, качество работы градиентного бустинга на тестовой выборке начинает ухудшаться.\n",
    "\n",
    "    4. С ростом глубины деревьев, начиная с некоторого момента, качество работы градиентного бустинга перестает существенно изменяться"
   ]
  },
  {
   "cell_type": "code",
   "execution_count": 23,
   "metadata": {},
   "outputs": [],
   "source": [
    "import xgboost as xgb\n",
    "from sklearn.model_selection import cross_val_score\n",
    "from sklearn.ensemble import GradientBoostingRegressor"
   ]
  },
  {
   "cell_type": "markdown",
   "metadata": {},
   "source": [
    "Сравним качество алгоритмов на тестовой выборке c **увеличением числа деревьев**.Также сравним время работы XGBRegressor и GradientBoostingRegressor"
   ]
  },
  {
   "cell_type": "code",
   "execution_count": 24,
   "metadata": {},
   "outputs": [
    {
     "name": "stdout",
     "output_type": "stream",
     "text": [
      "Wall time: 25.5 s\n"
     ]
    }
   ],
   "source": [
    "%%time\n",
    "score_xgb_train = []\n",
    "score_xgb_test = []\n",
    "n_estimator = range(1,400, 2)\n",
    "for i in n_estimator:\n",
    "    estimator = xgb.XGBRegressor(n_estimators = i)\n",
    "    estimator_fit = estimator.fit(X_train, y_train)\n",
    "    y_predicted_test = estimator_fit.predict(X_test)\n",
    "    y_predicted_train = estimator_fit.predict(X_train)\n",
    "    score_xgb_train.append(np.sqrt(mean_squared_error(y_train, y_predicted_train)))\n",
    "    score_xgb_test.append(np.sqrt(mean_squared_error(y_test, y_predicted_test)))"
   ]
  },
  {
   "cell_type": "code",
   "execution_count": null,
   "metadata": {},
   "outputs": [],
   "source": [
    "#%%time\n",
    "#score_GBR = []\n",
    "#n_estimator = range(1,400, 2)\n",
    "#for i in n_estimator:\n",
    "#    estimator = GradientBoostingRegressor(n_estimators = i,)\n",
    "#    estimator_fit = estimator.fit(X_train, y_train)\n",
    "#    y_predicted = estimator_fit.predict(X_test)\n",
    "#    score_GBR.append(np.sqrt(mean_squared_error(y_test, y_predicted)))"
   ]
  },
  {
   "cell_type": "markdown",
   "metadata": {},
   "source": [
    "Изобразим графически, как ведёт себя MSE с увеличением количества деревьев"
   ]
  },
  {
   "cell_type": "code",
   "execution_count": 28,
   "metadata": {},
   "outputs": [
    {
     "data": {
      "text/plain": [
       "<matplotlib.legend.Legend at 0x217dfb97508>"
      ]
     },
     "execution_count": 28,
     "metadata": {},
     "output_type": "execute_result"
    },
    {
     "data": {
      "image/png": "[encoded data removed]",
      "text/plain": [
       "<Figure size 576x504 with 1 Axes>"
      ]
     },
     "metadata": {
      "needs_background": "light"
     },
     "output_type": "display_data"
    }
   ],
   "source": [
    "figure(figsize = (8,7))\n",
    "plot(n_estimator, score_xgb_test, label = 'Тестовая выборка', color = 'darkred')\n",
    "plot(n_estimator, score_xgb_train, label = 'Обучающая выборка', color = 'green')\n",
    "#plot(n_estimator, score_GBR, label = 'GradientBoostingRegressor', color = 'forestgreen')\n",
    "title('Изменение качества алгоритма на тестовой и обучающей выборке')\n",
    "xlabel('Количество деревьев', fontsize = 13, fontweight = 'bold')\n",
    "ylabel('MSE',fontsize = 13, fontweight = 'bold')\n",
    "xlim(0,70)\n",
    "grid(True)\n",
    "legend(fontsize = 12)"
   ]
  },
  {
   "cell_type": "markdown",
   "metadata": {},
   "source": [
    "Видно, что с увеличением числа деревьев, MSE на обучающей выборке стремиться к нулю. \n",
    "Для тестовой выборки они имеет минимум в точке 4.0346164602188574, а дальше ошибка начинает расти и выходит на плато. Итог: имеет место переобучение"
   ]
  },
  {
   "cell_type": "markdown",
   "metadata": {},
   "source": [
    "Теперь посмотрим как меняется качество алгоритмов на тестовой выборке с увеличением глубины деревьев. Также сравним время расчёта"
   ]
  },
  {
   "cell_type": "code",
   "execution_count": null,
   "metadata": {},
   "outputs": [],
   "source": [
    "#%%time\n",
    "#mistake_GBR_train = []\n",
    "#mistake_GBR_test = []\n",
    "#max_depths = range(1,40, 1)\n",
    "#for i in max_depths:\n",
    "#    estimator = GradientBoostingRegressor(n_estimators = 50, max_depth = i)\n",
    "#    estimator_fit = estimator.fit(X_train, y_train)\n",
    "#    y_predicted_train = estimator_fit.predict(X_train)\n",
    "#    y_predicted_test = estimator_fit.predict(X_test)\n",
    "#    mistake_GBR_train.append(np.sqrt(mean_squared_error(y_train, y_predicted_train)))\n",
    "#    mistake_GBR_test.append(np.sqrt(mean_squared_error(y_test, y_predicted_test)))"
   ]
  },
  {
   "cell_type": "code",
   "execution_count": 36,
   "metadata": {},
   "outputs": [
    {
     "name": "stdout",
     "output_type": "stream",
     "text": [
      "Wall time: 4.11 s\n"
     ]
    }
   ],
   "source": [
    "%%time\n",
    "mistake_xgb_train = []\n",
    "mistake_xgb_test = []\n",
    "max_depths = range(1,40, 1)\n",
    "for i in max_depths:\n",
    "    estimator = xgb.XGBRegressor(max_depth = i)\n",
    "    estimator_fit = estimator.fit(X_train, y_train)\n",
    "    y_predicted_train = estimator_fit.predict(X_train)\n",
    "    y_predicted_test = estimator_fit.predict(X_test)\n",
    "    mistake_xgb_test.append(np.sqrt(mean_squared_error(y_test, y_predicted_test)))\n",
    "    mistake_xgb_train.append(np.sqrt(mean_squared_error(y_train, y_predicted_train)))"
   ]
  },
  {
   "cell_type": "code",
   "execution_count": 39,
   "metadata": {},
   "outputs": [
    {
     "data": {
      "image/png": "[encoded data removed]",
      "text/plain": [
       "<Figure size 576x504 with 1 Axes>"
      ]
     },
     "metadata": {
      "needs_background": "light"
     },
     "output_type": "display_data"
    }
   ],
   "source": [
    "plt.figure(figsize = (8,7))\n",
    "#plot(max_depths, mistake_GBR_train, color = 'blue',label = 'XGBRegressor' )\n",
    "#plot(max_depths, mistake_GBR_test, color = 'red',label = 'XGBRegressor' )\n",
    "#plot(max_depths, mistake_xgb, color = 'red', label = 'GradientBoostingRegressor')\n",
    "plot(max_depths, mistake_xgb_train, color = 'green', label = 'Обучающая выборка')\n",
    "plot(max_depths, mistake_xgb_test, color = 'blue', label = 'Тестовая выборка')\n",
    "plt.title('Изменение качества алгоритма на тестовой и обучающей выборке')\n",
    "plt.xlabel('Глубина деревьев', fontsize = 13, fontweight = 'bold')\n",
    "plt.ylabel('MSE',fontsize = 13, fontweight = 'bold')\n",
    "plt.grid(True)\n",
    "plt.legend(fontsize = 12)\n",
    "plt.grid(True)"
   ]
  },
  {
   "cell_type": "markdown",
   "metadata": {},
   "source": [
    "Получаем схожую ситуацию, что и с количеством дереьвев. Ошибка MSE на тестовой выборке уменьшается до точки 4.55, а дальше\n",
    "ошибка начинает расти. Снова переобучаемся"
   ]
  },
  {
   "cell_type": "code",
   "execution_count": 46,
   "metadata": {},
   "outputs": [],
   "source": [
    "answer_3 = [2,3]"
   ]
  },
  {
   "cell_type": "code",
   "execution_count": 47,
   "metadata": {},
   "outputs": [],
   "source": [
    "def write_answer_3(answer_3):\n",
    "    with open(\"D:\\Coursera\\Boosting_answer_3.txt\", \"w\") as file:\n",
    "        file.writelines(answer_3 + ' ' for answer_3 in map(str, answer_3))"
   ]
  },
  {
   "cell_type": "code",
   "execution_count": 48,
   "metadata": {},
   "outputs": [],
   "source": [
    "write_answer_3(answer_3)"
   ]
  },
  {
   "cell_type": "markdown",
   "metadata": {},
   "source": [
    "## Задание 5\n",
    "\n",
    "Сравните получаемое с помощью градиентного бустинга качество с качеством работы линейной регрессии. \n",
    "\n",
    "Для этого обучите `LinearRegression` из `sklearn.linear_model` (с параметрами по умолчанию) на обучающей выборке и оцените для прогнозов полученного алгоритма на тестовой выборке `RMSE`. Полученное качество - ответ в **пункте 5**. \n",
    "\n",
    "В данном примере качество работы простой модели должно было оказаться хуже, но не стоит забывать, что так бывает не всегда. В заданиях к этому курсу вы еще встретите пример обратной ситуации."
   ]
  },
  {
   "cell_type": "code",
   "execution_count": 140,
   "metadata": {},
   "outputs": [],
   "source": [
    "from sklearn.linear_model import LinearRegression"
   ]
  },
  {
   "cell_type": "code",
   "execution_count": 153,
   "metadata": {},
   "outputs": [],
   "source": [
    "model = LinearRegression()\n",
    "model_fit = model.fit(X_train, y_train)\n",
    "y_predicted = model_fit.predict(X_test)\n",
    "error_LR = np.sqrt(mean_squared_error(y_predicted,y_test))"
   ]
  },
  {
   "cell_type": "code",
   "execution_count": 154,
   "metadata": {},
   "outputs": [],
   "source": [
    "def write_answer_4(error_LR):\n",
    "    with open(\"D:\\Coursera\\Boosting_answer_4.txt\", \"w\") as file:\n",
    "        file.write(str(error_LR))"
   ]
  },
  {
   "cell_type": "code",
   "execution_count": 156,
   "metadata": {},
   "outputs": [],
   "source": [
    "write_answer_4(error_LR)"
   ]
  }
 ],
 "metadata": {
  "kernelspec": {
   "display_name": "Python 3",
   "language": "python",
   "name": "python3"
  },
  "language_info": {
   "codemirror_mode": {
    "name": "ipython",
    "version": 3
   },
   "file_extension": ".py",
   "mimetype": "text/x-python",
   "name": "python",
   "nbconvert_exporter": "python",
   "pygments_lexer": "ipython3",
   "version": "3.7.6"
  }
 },
 "nbformat": 4,
 "nbformat_minor": 1
}
