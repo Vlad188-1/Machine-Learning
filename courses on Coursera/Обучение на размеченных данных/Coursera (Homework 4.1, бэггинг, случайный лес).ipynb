{
 "cells": [
  {
   "cell_type": "markdown",
   "metadata": {},
   "source": [
    "# Задание по программированию: Бэггинг и случайный лес"
   ]
  },
  {
   "cell_type": "code",
   "execution_count": 1,
   "metadata": {},
   "outputs": [],
   "source": [
    "import warnings\n",
    "warnings.filterwarnings('ignore')"
   ]
  },
  {
   "cell_type": "code",
   "execution_count": 2,
   "metadata": {},
   "outputs": [],
   "source": [
    "from sklearn.datasets import load_digits\n",
    "import numpy as np\n",
    "import matplotlib.pyplot as plt\n",
    "import pandas as pd"
   ]
  },
  {
   "cell_type": "markdown",
   "metadata": {},
   "source": [
    "## Task 1"
   ]
  },
  {
   "cell_type": "code",
   "execution_count": 3,
   "metadata": {},
   "outputs": [],
   "source": [
    "digits = load_digits()"
   ]
  },
  {
   "cell_type": "code",
   "execution_count": 57,
   "metadata": {},
   "outputs": [
    {
     "name": "stdout",
     "output_type": "stream",
     "text": [
      "['DESCR', 'data', 'images', 'target', 'target_names']\n",
      "\n",
      " [[ 0.  0.  5. ...  0.  0.  0.]\n",
      " [ 0.  0.  0. ... 10.  0.  0.]\n",
      " [ 0.  0.  0. ... 16.  9.  0.]\n",
      " ...\n",
      " [ 0.  0.  0. ...  1.  0.  0.]\n",
      " [ 0.  0. 10. ...  1.  0.  0.]\n",
      " [ 0.  0.  9. ... 12. 11.  0.]]\n",
      "\n",
      " [0 1 2 3 4 5 6 7 8 9 0 1 2 3 4 5 6 7 8 9 0 1 2 3 4 5 6 7 8 9]\n"
     ]
    }
   ],
   "source": [
    "print (dir(digits))\n",
    "print ('\\n',digits.data[0:30])\n",
    "print ('\\n',digits.target[0:30])"
   ]
  },
  {
   "cell_type": "markdown",
   "metadata": {},
   "source": [
    "Обозначаем за $X$ вектор признаков, а за $y$ - вектор ответов"
   ]
  },
  {
   "cell_type": "code",
   "execution_count": 59,
   "metadata": {},
   "outputs": [],
   "source": [
    "X = digits.data\n",
    "y = digits.target"
   ]
  },
  {
   "cell_type": "code",
   "execution_count": 60,
   "metadata": {},
   "outputs": [],
   "source": [
    "from sklearn.tree import DecisionTreeClassifier\n",
    "from sklearn.model_selection import cross_val_score\n",
    "\n",
    "DF = DecisionTreeClassifier()"
   ]
  },
  {
   "cell_type": "code",
   "execution_count": 61,
   "metadata": {},
   "outputs": [
    {
     "name": "stdout",
     "output_type": "stream",
     "text": [
      "0.8269926136903294\n"
     ]
    }
   ],
   "source": [
    "cross_DF = cross_val_score(DF, X, y, cv = 10)\n",
    "cross_DF_mean = cross_DF.mean()\n",
    "print (cross_DF_mean)"
   ]
  },
  {
   "cell_type": "code",
   "execution_count": 10,
   "metadata": {},
   "outputs": [],
   "source": [
    "def write_answer_1(cross_DF_mean):\n",
    "    with open(\"D:\\Coursera\\DF_answer_1.txt\", \"w\") as file:\n",
    "        file.write(str(cross_DF_mean))"
   ]
  },
  {
   "cell_type": "code",
   "execution_count": 11,
   "metadata": {},
   "outputs": [],
   "source": [
    "write_answer_1(cross_DF_mean)"
   ]
  },
  {
   "cell_type": "markdown",
   "metadata": {},
   "source": [
    "## Task 2"
   ]
  },
  {
   "cell_type": "code",
   "execution_count": 12,
   "metadata": {},
   "outputs": [],
   "source": [
    "from sklearn.ensemble import BaggingClassifier"
   ]
  },
  {
   "cell_type": "code",
   "execution_count": 13,
   "metadata": {},
   "outputs": [
    {
     "name": "stdout",
     "output_type": "stream",
     "text": [
      "Wall time: 15 s\n"
     ]
    }
   ],
   "source": [
    "%%time\n",
    "DF_BC = BaggingClassifier(base_estimator = DF, n_estimators = 100)\n",
    "cross_DF_BC = cross_val_score(DF_BC, X, y, cv = 10)"
   ]
  },
  {
   "cell_type": "code",
   "execution_count": 14,
   "metadata": {},
   "outputs": [],
   "source": [
    "cross_DF_BC_mean = cross_DF_BC.mean()"
   ]
  },
  {
   "cell_type": "code",
   "execution_count": 15,
   "metadata": {},
   "outputs": [
    {
     "name": "stdout",
     "output_type": "stream",
     "text": [
      "0.9260838078399496\n"
     ]
    }
   ],
   "source": [
    "print (cross_DF_BC_mean)"
   ]
  },
  {
   "cell_type": "code",
   "execution_count": 16,
   "metadata": {},
   "outputs": [],
   "source": [
    "def write_answer_2(cross_DF_BC_mean):\n",
    "    with open(\"D:\\Coursera\\DF_answer_2.txt\", \"w\") as file:\n",
    "        file.write(str(cross_DF_BC_mean))"
   ]
  },
  {
   "cell_type": "code",
   "execution_count": 17,
   "metadata": {},
   "outputs": [],
   "source": [
    "write_answer_2(cross_DF_BC_mean)"
   ]
  },
  {
   "cell_type": "markdown",
   "metadata": {},
   "source": [
    "## Task 3"
   ]
  },
  {
   "cell_type": "code",
   "execution_count": 41,
   "metadata": {},
   "outputs": [
    {
     "name": "stdout",
     "output_type": "stream",
     "text": [
      "Wall time: 3.78 s\n"
     ]
    }
   ],
   "source": [
    "%%time\n",
    "DF_BC_new = BaggingClassifier(base_estimator = DF, max_features = int(np.sqrt(X.shape[1])), n_estimators = 100)\n",
    "cross_DF_BC_new = cross_val_score(DF_BC_new, X, y, cv = 10)"
   ]
  },
  {
   "cell_type": "code",
   "execution_count": 42,
   "metadata": {},
   "outputs": [
    {
     "name": "stdout",
     "output_type": "stream",
     "text": [
      "0.9348323672792024\n"
     ]
    }
   ],
   "source": [
    "cross_DF_BC_new_mean = cross_DF_BC_new.mean()\n",
    "print (cross_DF_BC_new_mean)"
   ]
  },
  {
   "cell_type": "markdown",
   "metadata": {},
   "source": [
    "В рекомендациях было указано, что нужно несколько раз рассчитать cross_val_score, \n",
    "если анализатор не будет принимать ответы. В моём случае именно это и произошло, поэтому ниже\n",
    "приводится цикл, в котором несколько рас рассчитываю cross_val_score и беру среднее значение"
   ]
  },
  {
   "cell_type": "code",
   "execution_count": 43,
   "metadata": {},
   "outputs": [],
   "source": [
    "Answers = []\n",
    "for _ in range(10):\n",
    "    DF_BC_new = BaggingClassifier(base_estimator = DF, max_features = int(np.sqrt(X.shape[1])), n_estimators = 100)\n",
    "    cross_DF_BC_new = cross_val_score(DF_BC_new, X, y, cv = 10)\n",
    "    Answers.append(cross_DF_BC_new.mean())"
   ]
  },
  {
   "cell_type": "code",
   "execution_count": 48,
   "metadata": {},
   "outputs": [
    {
     "data": {
      "text/plain": [
       "0.9326272825907443"
      ]
     },
     "execution_count": 48,
     "metadata": {},
     "output_type": "execute_result"
    }
   ],
   "source": [
    "mean = sum(Answers)/len(Answers)"
   ]
  },
  {
   "cell_type": "code",
   "execution_count": 49,
   "metadata": {},
   "outputs": [],
   "source": [
    "def write_answer_3(mean):\n",
    "    with open(\"D:\\Coursera\\DF_answer_3.txt\", \"w\") as file:\n",
    "        file.write(str(mean))"
   ]
  },
  {
   "cell_type": "code",
   "execution_count": 50,
   "metadata": {},
   "outputs": [],
   "source": [
    "write_answer_3(cross_DF_BC_new_mean)"
   ]
  },
  {
   "cell_type": "markdown",
   "metadata": {},
   "source": [
    "## Task 4"
   ]
  },
  {
   "cell_type": "code",
   "execution_count": 22,
   "metadata": {},
   "outputs": [],
   "source": [
    "DF_new_2 = DecisionTreeClassifier(max_features = int(np.sqrt(X.shape[1])))"
   ]
  },
  {
   "cell_type": "code",
   "execution_count": 23,
   "metadata": {},
   "outputs": [
    {
     "name": "stdout",
     "output_type": "stream",
     "text": [
      "Wall time: 4.28 s\n"
     ]
    }
   ],
   "source": [
    "%%time\n",
    "DF_BC_new_2 = BaggingClassifier(base_estimator = DF_new_2, n_estimators = 100)\n",
    "cross_DF_BC_new_2 = cross_val_score(DF_BC_new_2, X, y, cv = 10)"
   ]
  },
  {
   "cell_type": "code",
   "execution_count": 24,
   "metadata": {},
   "outputs": [
    {
     "name": "stdout",
     "output_type": "stream",
     "text": [
      "0.9544565836342385\n"
     ]
    }
   ],
   "source": [
    "cross_DF_BC_new_2_mean = cross_DF_BC_new_2.mean()\n",
    "print (cross_DF_BC_new_2_mean)"
   ]
  },
  {
   "cell_type": "code",
   "execution_count": 25,
   "metadata": {},
   "outputs": [],
   "source": [
    "def write_answer_4(cross_DF_BC_new_2_mean):\n",
    "    with open(\"D:\\Coursera\\DF_answer_4.txt\", \"w\") as file:\n",
    "        file.write(str(cross_DF_BC_new_2_mean))"
   ]
  },
  {
   "cell_type": "code",
   "execution_count": 26,
   "metadata": {},
   "outputs": [],
   "source": [
    "write_answer_4(cross_DF_BC_new_2_mean)"
   ]
  },
  {
   "cell_type": "markdown",
   "metadata": {},
   "source": [
    "## Task 5"
   ]
  },
  {
   "cell_type": "code",
   "execution_count": 27,
   "metadata": {},
   "outputs": [],
   "source": [
    "from sklearn.ensemble import RandomForestClassifier\n",
    "\n",
    "RF = RandomForestClassifier()"
   ]
  },
  {
   "cell_type": "code",
   "execution_count": 28,
   "metadata": {},
   "outputs": [],
   "source": [
    "cross_RF = cross_val_score(RF, X, y, cv = 10)"
   ]
  },
  {
   "cell_type": "code",
   "execution_count": 29,
   "metadata": {},
   "outputs": [
    {
     "name": "stdout",
     "output_type": "stream",
     "text": [
      "0.927182506987311\n"
     ]
    }
   ],
   "source": [
    "print (cross_RF.mean())"
   ]
  },
  {
   "cell_type": "code",
   "execution_count": 30,
   "metadata": {},
   "outputs": [],
   "source": [
    "cross_score = []\n",
    "n_estimators = np.arange(5, 500, 30)\n",
    "for i in n_estimators:\n",
    "    RF = RandomForestClassifier(n_estimators = i)\n",
    "    cross_RF = cross_val_score(RF, X, y , cv = 10)\n",
    "    cross_score.append(cross_RF.mean())"
   ]
  },
  {
   "cell_type": "code",
   "execution_count": 53,
   "metadata": {},
   "outputs": [
    {
     "data": {
      "image/png": "[encoded data removed]",
      "text/plain": [
       "<Figure size 504x432 with 1 Axes>"
      ]
     },
     "metadata": {
      "needs_background": "light"
     },
     "output_type": "display_data"
    }
   ],
   "source": [
    "plt.figure(figsize = (7,6))\n",
    "plt.plot(n_estimators, cross_score, color = 'blue', marker = 'o')\n",
    "plt.xlabel('Количество деревьев', fontsize = 13)\n",
    "plt.ylabel('Точность', fontsize = 13)\n",
    "plt.grid(True)"
   ]
  },
  {
   "cell_type": "code",
   "execution_count": 32,
   "metadata": {},
   "outputs": [],
   "source": [
    "cross_score_2 = []\n",
    "max_features = np.arange(1, X.shape[1] + 1, 5)\n",
    "for i in max_features:\n",
    "    DF_2 = DecisionTreeClassifier(max_features = i)\n",
    "    DF_2 = BaggingClassifier(base_estimator = DF_2, n_estimators = 100)\n",
    "    cross_DF_2 = cross_val_score(DF_2, X,y, cv = 10)\n",
    "    cross_score_2.append(cross_DF_2.mean())"
   ]
  },
  {
   "cell_type": "code",
   "execution_count": 33,
   "metadata": {},
   "outputs": [
    {
     "data": {
      "image/png": "[encoded data removed]",
      "text/plain": [
       "<Figure size 504x432 with 1 Axes>"
      ]
     },
     "metadata": {
      "needs_background": "light"
     },
     "output_type": "display_data"
    }
   ],
   "source": [
    "plt.figure(figsize = (7,6))\n",
    "plt.plot(max_features, cross_score_2, color = 'green', marker = 'o')\n",
    "plt.xlabel('Количество признаков', fontsize = 13)\n",
    "plt.ylabel('Точность', fontsize = 13)\n",
    "plt.grid(True)\n",
    "#При большом количестве признаков (для данного датасета - 40, 50) качество классификации становится хуже, \n",
    "#чем при малом количестве признаков (5, 10). Это связано с тем, что чем меньше признаков выбирается в каждом узле, \n",
    "#тем более различными получаются деревья (ведь деревья сильно неустойчивы к изменениям в обучающей выборке), \n",
    "#и тем лучше работает их композиция."
   ]
  },
  {
   "cell_type": "code",
   "execution_count": 34,
   "metadata": {},
   "outputs": [],
   "source": [
    "cross_score_3 = []\n",
    "max_depth = np.arange(2, 20, 2)\n",
    "for i in max_depth:\n",
    "    DF_3 = DecisionTreeClassifier(max_depth = i)\n",
    "    DF_3 = BaggingClassifier(base_estimator = DF_3, n_estimators = 100)\n",
    "    cross_DF_3 = cross_val_score(DF_3, X,y, cv = 10)\n",
    "    cross_score_3.append(cross_DF_3.mean())"
   ]
  },
  {
   "cell_type": "code",
   "execution_count": 35,
   "metadata": {},
   "outputs": [
    {
     "data": {
      "image/png": "[encoded data removed]",
      "text/plain": [
       "<Figure size 504x432 with 1 Axes>"
      ]
     },
     "metadata": {
      "needs_background": "light"
     },
     "output_type": "display_data"
    }
   ],
   "source": [
    "plt.figure(figsize = (7,6))\n",
    "plt.plot(max_depth, cross_score_3, color = 'chocolate', marker = 'o')\n",
    "plt.xlabel('Глубина деревьев', fontsize = 13)\n",
    "plt.ylabel('Точность', fontsize = 13)\n",
    "plt.grid(True)\n",
    "#При небольшой максимальной глубине деревьев (5-6) качество работы случайного леса заметно хуже, \n",
    "#чем без ограничений, т.к. деревья получаются недообученными. С ростом глубины качество сначала улучшается, \n",
    "#а затем не меняется существенно, т.к. из-за усреднения прогнозов и различий деревьев их \n",
    "#переобученность в бэггинге не сказывается на итоговом качестве (все деревья преобучены по-разному, \n",
    "#и при усреднении они компенсируют переобученность друг-друга)"
   ]
  },
  {
   "cell_type": "code",
   "execution_count": 36,
   "metadata": {},
   "outputs": [],
   "source": [
    "answers = [2,3,4,7]"
   ]
  },
  {
   "cell_type": "code",
   "execution_count": 37,
   "metadata": {},
   "outputs": [],
   "source": [
    "def write_answer_5(answers):\n",
    "    with open(\"D:\\Coursera\\DF_answer_5.txt\", \"w\") as fout:\n",
    "        fout.write(\" \".join([str(num) for num in answers]))"
   ]
  },
  {
   "cell_type": "code",
   "execution_count": 38,
   "metadata": {},
   "outputs": [],
   "source": [
    "write_answer_5(answers)"
   ]
  },
  {
   "cell_type": "code",
   "execution_count": null,
   "metadata": {},
   "outputs": [],
   "source": []
  }
 ],
 "metadata": {
  "kernelspec": {
   "display_name": "Python 3",
   "language": "python",
   "name": "python3"
  },
  "language_info": {
   "codemirror_mode": {
    "name": "ipython",
    "version": 3
   },
   "file_extension": ".py",
   "mimetype": "text/x-python",
   "name": "python",
   "nbconvert_exporter": "python",
   "pygments_lexer": "ipython3",
   "version": "3.7.6"
  }
 },
 "nbformat": 4,
 "nbformat_minor": 2
}
