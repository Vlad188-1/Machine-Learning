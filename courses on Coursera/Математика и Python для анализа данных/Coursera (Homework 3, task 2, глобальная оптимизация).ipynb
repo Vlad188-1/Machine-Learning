{
 "cells": [
  {
   "cell_type": "markdown",
   "metadata": {},
   "source": [
    "## Глобальная оптимизация"
   ]
  },
  {
   "cell_type": "code",
   "execution_count": 8,
   "metadata": {},
   "outputs": [],
   "source": [
    "import numpy as np\n",
    "from scipy.optimize import differential_evolution\n",
    "import math"
   ]
  },
  {
   "cell_type": "code",
   "execution_count": 9,
   "metadata": {},
   "outputs": [],
   "source": [
    "x = np.arange(1,30,0.1)\n",
    "def f(x):\n",
    "    return math.sin(x / 5.) * math.exp(x / 10.) + 5. * math.exp(-x / 2.)"
   ]
  },
  {
   "cell_type": "markdown",
   "metadata": {},
   "source": [
    "### P.S. Количество вычислений значения функции (nfev)"
   ]
  },
  {
   "cell_type": "code",
   "execution_count": 10,
   "metadata": {},
   "outputs": [
    {
     "data": {
      "text/plain": [
       "     fun: -11.898894665971302\n",
       "     jac: array([3.37507799e-06])\n",
       " message: 'Optimization terminated successfully.'\n",
       "    nfev: 81\n",
       "     nit: 4\n",
       " success: True\n",
       "       x: array([25.88019884])"
      ]
     },
     "execution_count": 10,
     "metadata": {},
     "output_type": "execute_result"
    }
   ],
   "source": [
    "result = differential_evolution(f,[(1,30)])\n",
    "result"
   ]
  },
  {
   "cell_type": "code",
   "execution_count": 11,
   "metadata": {},
   "outputs": [],
   "source": [
    "Result = []\n",
    "result_new = round(result.fun,2)\n",
    "Result.append(result_new)"
   ]
  },
  {
   "cell_type": "code",
   "execution_count": 12,
   "metadata": {},
   "outputs": [
    {
     "name": "stdout",
     "output_type": "stream",
     "text": [
      "[-11.9]\n"
     ]
    }
   ],
   "source": [
    "print (Result)"
   ]
  },
  {
   "cell_type": "markdown",
   "metadata": {},
   "source": [
    "## Запишем полученный результат в текстовый файл"
   ]
  },
  {
   "cell_type": "code",
   "execution_count": 13,
   "metadata": {},
   "outputs": [],
   "source": [
    "with open('D:\\Coursera\\Homework3(Task2).txt', 'w') as file:\n",
    "    file.writelines(Result for Result in map(str, Result))\n",
    "file.close()"
   ]
  },
  {
   "cell_type": "code",
   "execution_count": 14,
   "metadata": {},
   "outputs": [
    {
     "name": "stdout",
     "output_type": "stream",
     "text": [
      "-11.9\n"
     ]
    }
   ],
   "source": [
    "file = open('D:\\Coursera\\Homework3(Task2).txt', 'r')\n",
    "for line in file:\n",
    "    print (line.strip())"
   ]
  },
  {
   "cell_type": "code",
   "execution_count": null,
   "metadata": {},
   "outputs": [],
   "source": []
  }
 ],
 "metadata": {
  "kernelspec": {
   "display_name": "Python 3",
   "language": "python",
   "name": "python3"
  },
  "language_info": {
   "codemirror_mode": {
    "name": "ipython",
    "version": 3
   },
   "file_extension": ".py",
   "mimetype": "text/x-python",
   "name": "python",
   "nbconvert_exporter": "python",
   "pygments_lexer": "ipython3",
   "version": "3.7.4"
  }
 },
 "nbformat": 4,
 "nbformat_minor": 2
}
