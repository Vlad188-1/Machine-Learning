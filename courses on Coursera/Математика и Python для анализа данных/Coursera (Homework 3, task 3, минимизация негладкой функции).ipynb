{
 "cells": [
  {
   "cell_type": "markdown",
   "metadata": {},
   "source": [
    "## Минимизация негладкой функции"
   ]
  },
  {
   "cell_type": "code",
   "execution_count": 17,
   "metadata": {},
   "outputs": [],
   "source": [
    "import numpy as np\n",
    "import matplotlib.pyplot as plt\n",
    "from scipy.optimize import minimize, differential_evolution"
   ]
  },
  {
   "cell_type": "code",
   "execution_count": 18,
   "metadata": {},
   "outputs": [],
   "source": [
    "x = np.arange(1,30,0.1)\n",
    "def f(x):\n",
    "    return np.sin(x / 5) * np.exp(x / 10) + 5 * np.exp(-x / 2)"
   ]
  },
  {
   "cell_type": "code",
   "execution_count": 19,
   "metadata": {},
   "outputs": [
    {
     "name": "stdout",
     "output_type": "stream",
     "text": [
      "[  3   3   3   2   2   2   2   2   2   2   2   2   2   2   2   2   2   1\n",
      "   1   1   1   1   1   1   1   1   1   1   1   1   1   1   1   1   1   1\n",
      "   1   1   1   1   1   1   1   1   1   1   1   1   1   1   1   1   1   2\n",
      "   2   2   2   2   2   2   2   2   2   2   2   2   2   2   2   2   2   2\n",
      "   2   2   2   2   2   2   2   2   2   2   2   2   2   2   2   2   2   2\n",
      "   2   2   2   2   2   2   2   2   2   2   2   2   2   2   2   2   2   2\n",
      "   2   2   2   2   2   2   2   2   2   2   1   1   1   1   1   1   1   1\n",
      "   1   1   1   1   1   1   1   1   1   1   0   0   0   0   0   0   0   0\n",
      "   0   0   0   0   0   0   0   0   0   0   0   0   0  -1  -1  -1  -1  -1\n",
      "  -1  -1  -1  -2  -2  -2  -2  -2  -2  -2  -2  -3  -3  -3  -3  -3  -3  -3\n",
      "  -4  -4  -4  -4  -4  -4  -4  -5  -5  -5  -5  -5  -5  -6  -6  -6  -6  -6\n",
      "  -6  -6  -7  -7  -7  -7  -7  -7  -8  -8  -8  -8  -8  -8  -8  -9  -9  -9\n",
      "  -9  -9  -9  -9  -9 -10 -10 -10 -10 -10 -10 -10 -10 -10 -10 -11 -11 -11\n",
      " -11 -11 -11 -11 -11 -11 -11 -11 -11 -11 -11 -11 -11 -11 -11 -11 -11 -11\n",
      " -11 -11 -11 -11 -11 -11 -11 -11 -11 -11 -11 -11 -11 -11 -10 -10 -10 -10\n",
      " -10 -10 -10  -9  -9  -9  -9  -9  -8  -8  -8  -8  -7  -7  -7  -7  -6  -6\n",
      "  -6  -5]\n"
     ]
    }
   ],
   "source": [
    "def h(x):\n",
    "    return f(x).astype(int)\n",
    "print (h(x))"
   ]
  },
  {
   "cell_type": "code",
   "execution_count": 20,
   "metadata": {},
   "outputs": [
    {
     "data": {
      "image/png": "[encoded data removed]",
      "text/plain": [
       "<Figure size 648x432 with 1 Axes>"
      ]
     },
     "metadata": {
      "needs_background": "light"
     },
     "output_type": "display_data"
    }
   ],
   "source": [
    "plt.figure(figsize = (9,6))\n",
    "plt.plot(x, h(x), color = 'red', label = 'Функция h(x)')\n",
    "plt.xlabel('x', fontsize = 12, fontweight = 'bold')\n",
    "plt.ylabel('h(x)', fontsize = 12, rotation = 0, fontweight = 'bold')\n",
    "plt.grid(True, alpha = 0.6, color = 'black')\n",
    "plt.legend()\n",
    "plt.show()"
   ]
  },
  {
   "cell_type": "code",
   "execution_count": 21,
   "metadata": {},
   "outputs": [
    {
     "data": {
      "text/plain": [
       "      fun: array([-5])\n",
       " hess_inv: array([[1]])\n",
       "      jac: array([0.])\n",
       "  message: 'Optimization terminated successfully.'\n",
       "     nfev: 3\n",
       "      nit: 0\n",
       "     njev: 1\n",
       "   status: 0\n",
       "  success: True\n",
       "        x: array([30.])"
      ]
     },
     "execution_count": 21,
     "metadata": {},
     "output_type": "execute_result"
    }
   ],
   "source": [
    "result_1 = minimize(h,[30], method = 'BFGS')\n",
    "result_1"
   ]
  },
  {
   "cell_type": "code",
   "execution_count": 22,
   "metadata": {},
   "outputs": [
    {
     "data": {
      "text/plain": [
       "     fun: -11.0\n",
       " message: 'Optimization terminated successfully.'\n",
       "    nfev: 77\n",
       "     nit: 4\n",
       " success: True\n",
       "       x: array([26.06571884])"
      ]
     },
     "execution_count": 22,
     "metadata": {},
     "output_type": "execute_result"
    }
   ],
   "source": [
    "result_2 = differential_evolution(h, [(1,30)])\n",
    "result_2"
   ]
  },
  {
   "cell_type": "code",
   "execution_count": 23,
   "metadata": {},
   "outputs": [],
   "source": [
    "Result = []\n",
    "result_1_new = result_1.fun[0]\n",
    "result_2_new = round(result_2.fun,2)\n",
    "Result.append(result_1_new)\n",
    "Result.append(result_2_new)"
   ]
  },
  {
   "cell_type": "code",
   "execution_count": 24,
   "metadata": {},
   "outputs": [
    {
     "data": {
      "text/plain": [
       "[-5, -11.0]"
      ]
     },
     "execution_count": 24,
     "metadata": {},
     "output_type": "execute_result"
    }
   ],
   "source": [
    "Result"
   ]
  },
  {
   "cell_type": "markdown",
   "metadata": {},
   "source": [
    "## Записываем полученные данные в файл"
   ]
  },
  {
   "cell_type": "code",
   "execution_count": 25,
   "metadata": {},
   "outputs": [],
   "source": [
    "with open('D:\\Coursera\\Homework3(Task3).txt', 'w') as file:\n",
    "    file.writelines(Result + ' ' for Result in map(str, Result))\n",
    "file.close()"
   ]
  },
  {
   "cell_type": "code",
   "execution_count": 26,
   "metadata": {},
   "outputs": [
    {
     "name": "stdout",
     "output_type": "stream",
     "text": [
      "-5 -11.0\n"
     ]
    }
   ],
   "source": [
    "file = open('D:\\Coursera\\Homework3(Task3).txt', 'r')\n",
    "for i in file:\n",
    "    print (i.strip())"
   ]
  },
  {
   "cell_type": "code",
   "execution_count": null,
   "metadata": {},
   "outputs": [],
   "source": []
  }
 ],
 "metadata": {
  "kernelspec": {
   "display_name": "Python 3",
   "language": "python",
   "name": "python3"
  },
  "language_info": {
   "codemirror_mode": {
    "name": "ipython",
    "version": 3
   },
   "file_extension": ".py",
   "mimetype": "text/x-python",
   "name": "python",
   "nbconvert_exporter": "python",
   "pygments_lexer": "ipython3",
   "version": "3.7.4"
  }
 },
 "nbformat": 4,
 "nbformat_minor": 2
}
